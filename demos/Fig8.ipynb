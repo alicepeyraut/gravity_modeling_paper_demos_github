{
 "cells": [
  {
   "attachments": {},
   "cell_type": "markdown",
   "metadata": {},
   "source": [
    "# Figure 8"
   ]
  },
  {
   "attachments": {},
   "cell_type": "markdown",
   "metadata": {},
   "source": [
    "## Imports"
   ]
  },
  {
   "cell_type": "code",
   "execution_count": null,
   "metadata": {},
   "outputs": [],
   "source": [
    "import dolfin\n",
    "import matplotlib.pyplot as plt\n",
    "import numpy\n",
    "import pandas\n",
    "\n",
    "import dolfin_mech as dmech\n",
    "import get_invariants"
   ]
  },
  {
   "attachments": {},
   "cell_type": "markdown",
   "metadata": {},
   "source": [
    "## Parameters"
   ]
  },
  {
   "attachments": {},
   "cell_type": "markdown",
   "metadata": {},
   "source": [
    "### Mesh"
   ]
  },
  {
   "cell_type": "code",
   "execution_count": null,
   "metadata": {},
   "outputs": [],
   "source": [
    "cube_params = {\"path_and_mesh_name\":\"Data/generic_mesh.xdmf\"}"
   ]
  },
  {
   "attachments": {},
   "cell_type": "markdown",
   "metadata": {},
   "source": [
    "### Material"
   ]
  },
  {
   "cell_type": "code",
   "execution_count": null,
   "metadata": {},
   "outputs": [],
   "source": [
    "params = {\n",
    "    \"alpha\":0.16,     # kPa\n",
    "    \"gamma\":0.5,      # [-]\n",
    "    \"c1\":0.8,         # kPa\n",
    "    \"c2\":0.2,         # kPa\n",
    "    \"kappa\":1e2,      # kPa\n",
    "    \"eta\":1e-5,       # kPa\n",
    "    \"rho_solid\":1e-6} # g/mm3\n",
    "mat_params = {\"scaling\":\"linear\", \"parameters\":params}"
   ]
  },
  {
   "attachments": {},
   "cell_type": "markdown",
   "metadata": {},
   "source": [
    "### Loading"
   ]
  },
  {
   "cell_type": "code",
   "execution_count": null,
   "metadata": {},
   "outputs": [],
   "source": [
    "pe = -0.5    # kPa\n",
    "pi = -3.0    # kPa\n",
    "g  = +9.81e3 # mm/s2\n",
    "\n",
    "h_lst = [0., -0.005, +0.005, -0.0065, +0.0065]"
   ]
  },
  {
   "attachments": {},
   "cell_type": "markdown",
   "metadata": {},
   "source": [
    "## Computing strain fields"
   ]
  },
  {
   "cell_type": "code",
   "execution_count": null,
   "metadata": {},
   "outputs": [],
   "source": [
    "invariants = {}\n",
    "\n",
    "for h in h_lst:\n",
    "\n",
    "    ### computing the unloaded configuration from a generic end-exhalation configuration\n",
    "    Uref, phisref_computation, dV_expi_ini = dmech.run_RivlinCube_PoroHyperelasticity(\n",
    "        inverse=1,\n",
    "        porosity_params={\"type\":\"mesh_function_random_xml\", \"val\":0.3},\n",
    "        cube_params=cube_params,\n",
    "        mat_params=mat_params,\n",
    "        inertia_params={\"applied\":True, \"rho_val\":1e-8},\n",
    "        step_params={\"dt_min\":1e-4, \"dt_ini\":1},\n",
    "        load_params={\"type\":\"p_boundary_condition0\", \"f\":g, \"P0\":float(pe), \"H\":h},\n",
    "        res_basename=\"Fig8-unloaded\"+str(h),\n",
    "        get_results=1,\n",
    "        verbose=1)\n",
    "\n",
    "    ### computing the end-exhalation configuration\n",
    "    U_exhal, phisexhal, dV_unloaded = dmech.run_RivlinCube_PoroHyperelasticity(\n",
    "        cube_params=cube_params,\n",
    "        move_params = {\"move\":True, \"U\":Uref},\n",
    "        porosity_params={\"type\":\"mesh_function_random_xml\", \"val\":0.5},\n",
    "        mat_params=mat_params,\n",
    "        inertia_params={\"applied\":True, \"rho_val\":1e-8},\n",
    "        step_params={\"dt_min\":1e-4, \"dt_ini\":0.125},\n",
    "        load_params={\"type\":\"p_boundary_condition\", \"f\":g, \"P0\":float(pe), \"H\":h},\n",
    "        res_basename=\"Fig8-exhalation\"+str(h),\n",
    "        get_results=1,\n",
    "        verbose=1)\n",
    "\n",
    "    ### computing the end-inhalation configuration\n",
    "    U_inhal, phisinhal, dV_unloaded = dmech.run_RivlinCube_PoroHyperelasticity(\n",
    "        cube_params=cube_params,\n",
    "        move_params = {\"move\":True, \"U\":Uref},\n",
    "        porosity_params={\"type\":\"mesh_function_random_xml\", \"val\":0.5},\n",
    "        mat_params=mat_params,\n",
    "        inertia_params={\"applied\":True, \"rho_val\":1e-8},\n",
    "        step_params={\"dt_min\":1e-4, \"dt_ini\":0.125},\n",
    "        load_params={\"type\":\"p_boundary_condition\", \"f\":g, \"P0\":float(pi), \"H\":h},\n",
    "        res_basename=\"Fig8-inhalation\"+str(h),\n",
    "        get_results=1,\n",
    "        verbose=1)\n",
    "\n",
    "    mesh = dolfin.Mesh()\n",
    "    mesh_name = str(cube_params[\"path_and_mesh_name\"])\n",
    "    dolfin.XDMFFile(mesh_name).read(mesh)\n",
    "    dolfin.ALE.move(mesh, Uref)\n",
    "\n",
    "    invariants_mesh = get_invariants.get_invariants(U_exhal=U_exhal, U_inhal=U_inhal, mesh=mesh)\n",
    "    invariants[\"h=\"+str(h)] = invariants_mesh"
   ]
  },
  {
   "attachments": {},
   "cell_type": "markdown",
   "metadata": {},
   "source": [
    "## Generating plots"
   ]
  },
  {
   "attachments": {},
   "cell_type": "markdown",
   "metadata": {},
   "source": [
    "### [Hurtado et al.]'s data"
   ]
  },
  {
   "cell_type": "code",
   "execution_count": null,
   "metadata": {},
   "outputs": [],
   "source": [
    "J  = pandas.read_table(\"Data/hurtado_J.dat\" , sep=\"\\s+\", usecols=[\"zone\", \"mean\", \"mean+std\", \"mean-std\"]).to_dict(\"list\")\n",
    "I1 = pandas.read_table(\"Data/hurtado_I1.dat\", sep=\"\\s+\", usecols=[\"zone\", \"mean\", \"mean+std\", \"mean-std\"]).to_dict(\"list\")\n",
    "I2 = pandas.read_table(\"Data/hurtado_I2.dat\", sep=\"\\s+\", usecols=[\"zone\", \"mean\", \"mean+std\", \"mean-std\"]).to_dict(\"list\")"
   ]
  },
  {
   "attachments": {},
   "cell_type": "markdown",
   "metadata": {},
   "source": [
    "### I1"
   ]
  },
  {
   "cell_type": "code",
   "execution_count": null,
   "metadata": {},
   "outputs": [],
   "source": [
    "fig, ax = plt.subplots()\n",
    "\n",
    "### plotting parameters\n",
    "plt.rc(\"xtick\", labelsize=20)\n",
    "plt.rc(\"ytick\", labelsize=20)\n",
    "ax.set_xticks(numpy.linspace(1, 10, 10))\n",
    "plt.xlim([0.9, 10.1])\n",
    "fig.set_size_inches(6, 6)\n",
    "plt.grid()\n",
    "\n",
    "### axis labels\n",
    "ax.set_xlabel(\"Zone\", fontsize=20, labelpad=10)\n",
    "ax.set_ylabel(\"Log Normalized First Invariant\", fontsize=20, labelpad=10)\n",
    "\n",
    "### error bars\n",
    "down_up_lst = [[abs(J[\"mean-std\"][i]-J[\"mean\"][i])for i in range(len(J[\"zone\"]))], [abs(J[\"mean+std\"][i]-J[\"mean\"][i]) for i in range(len(J[\"zone\"]))]]\n",
    "mean_lst=[J[\"mean\"][i] for i in range(len(J[\"zone\"]))]\n",
    "plt.errorbar(invariants[\"h=0.0\"][\"zone\"], mean_lst, yerr=down_up_lst, capsize=4, fmt=\"s\", ecolor = \"black\", markeredgecolor='black', markerfacecolor='black')\n",
    "\n",
    "### curves\n",
    "plt.plot(invariants[\"h=0.0\"][\"zone\"]    , invariants[\"h=0.0\"][\"I1^\"]    , color=\"green\"        , linestyle=\"-\", marker=\"s\", label=\"Model (w gravity), H=0\"  )\n",
    "plt.plot(invariants[\"h=0.005\"][\"zone\"]  , invariants[\"h=0.005\"][\"I1^\"]  , color=\"red\"          , linestyle=\"-\", marker=\"s\", label=\"Model (w gravity), H=+H1\")\n",
    "plt.plot(invariants[\"h=-0.005\"][\"zone\"] , invariants[\"h=-0.005\"][\"I1^\"] , color=\"darkturquoise\", linestyle=\"-\", marker=\"s\", label=\"Model (w gravity), H=–H1\")\n",
    "plt.plot(invariants[\"h=0.0065\"][\"zone\"] , invariants[\"h=0.0065\"][\"I1^\"] , color=\"purple\"       , linestyle=\"-\", marker=\"s\", label=\"Model (w gravity), H=+H2\")\n",
    "plt.plot(invariants[\"h=-0.0065\"][\"zone\"], invariants[\"h=-0.0065\"][\"I1^\"], color=\"orange\"       , linestyle=\"-\", marker=\"s\", label=\"Model (w gravity), H=–H2\")\n",
    "plt.legend(loc=\"upper right\", fontsize=14)\n",
    "plt.show()"
   ]
  },
  {
   "attachments": {},
   "cell_type": "markdown",
   "metadata": {},
   "source": [
    "### I2"
   ]
  },
  {
   "cell_type": "code",
   "execution_count": null,
   "metadata": {},
   "outputs": [],
   "source": [
    "fig, ax = plt.subplots()\n",
    "\n",
    "### plotting parameters\n",
    "plt.rc(\"xtick\", labelsize=20)\n",
    "plt.rc(\"ytick\", labelsize=20)\n",
    "plt.xlim([0.9, 10.1])\n",
    "fig.set_size_inches(6, 6)\n",
    "ax.set_xticks(numpy.linspace(1, 10, 10))\n",
    "plt.grid()\n",
    "\n",
    "### axis labels\n",
    "ax.set_xlabel(\"Zone\", fontsize=20, labelpad=10)\n",
    "ax.set_ylabel(\"Log Normalized Second Invariant\", fontsize=20, labelpad=10)\n",
    "\n",
    "### error bars\n",
    "down_up_lst = [[abs(J[\"mean-std\"][i]-J[\"mean\"][i])for i in range(len(J[\"zone\"]))], [abs(J[\"mean+std\"][i]-J[\"mean\"][i]) for i in range(len(J[\"zone\"]))]]\n",
    "mean_lst=[J[\"mean\"][i] for i in range(len(J[\"zone\"]))]\n",
    "plt.errorbar(invariants[\"h=0.0\"][\"zone\"], mean_lst, yerr=down_up_lst, capsize=4, fmt=\"s\", ecolor = \"black\", markeredgecolor='black', markerfacecolor='black')\n",
    "\n",
    "### curves\n",
    "plt.plot(invariants[\"h=0.0\"][\"zone\"]    , invariants[\"h=0.0\"][\"I2^\"]    , color=\"green\"        , linestyle=\"-\", marker=\"s\", label=\"Model (w gravity), H=0\"  )\n",
    "plt.plot(invariants[\"h=0.005\"][\"zone\"]  , invariants[\"h=0.005\"][\"I2^\"]  , color=\"red\"          , linestyle=\"-\", marker=\"s\", label=\"Model (w gravity), H=+H1\")\n",
    "plt.plot(invariants[\"h=-0.005\"][\"zone\"] , invariants[\"h=-0.005\"][\"I2^\"] , color=\"darkturquoise\", linestyle=\"-\", marker=\"s\", label=\"Model (w gravity), H=–H1\")\n",
    "plt.plot(invariants[\"h=0.0065\"][\"zone\"] , invariants[\"h=0.0065\"][\"I2^\"] , color=\"purple\"       , linestyle=\"-\", marker=\"s\", label=\"Model (w gravity), H=+H2\")\n",
    "plt.plot(invariants[\"h=-0.0065\"][\"zone\"], invariants[\"h=-0.0065\"][\"I2^\"], color=\"orange\"       , linestyle=\"-\", marker=\"s\", label=\"Model (w gravity), H=–H2\")\n",
    "plt.legend(loc=\"upper right\", fontsize=14)\n",
    "plt.show()"
   ]
  },
  {
   "attachments": {},
   "cell_type": "markdown",
   "metadata": {},
   "source": [
    "### J"
   ]
  },
  {
   "cell_type": "code",
   "execution_count": null,
   "metadata": {},
   "outputs": [],
   "source": [
    "fig, ax = plt.subplots()\n",
    "\n",
    "### plotting parameters\n",
    "plt.rc(\"xtick\", labelsize=20)\n",
    "plt.rc(\"ytick\", labelsize=20)\n",
    "ax.set_xticks(numpy.linspace(1, 10, 10))\n",
    "plt.xlim([0.9, 10.1])\n",
    "fig.set_size_inches(6, 6)\n",
    "plt.grid()\n",
    "\n",
    "### axis labels\n",
    "ax.set_xlabel(\"Zone\", fontsize=20, labelpad=10)\n",
    "ax.set_ylabel(\"Log Normalized Third Invariant\", fontsize=20, labelpad=10)\n",
    "\n",
    "### error bars\n",
    "down_up_lst = [[abs(J[\"mean-std\"][i]-J[\"mean\"][i])for i in range(len(J[\"zone\"]))], [abs(J[\"mean+std\"][i]-J[\"mean\"][i]) for i in range(len(J[\"zone\"]))]]\n",
    "mean_lst=[J[\"mean\"][i] for i in range(len(J[\"zone\"]))]\n",
    "plt.errorbar(invariants[\"h=0.0\"][\"zone\"], mean_lst, yerr=down_up_lst, capsize=4, fmt=\"s\", ecolor = \"black\", markeredgecolor='black', markerfacecolor='black')\n",
    "\n",
    "### curves\n",
    "plt.plot(invariants[\"h=0.0\"][\"zone\"]    , invariants[\"h=0.0\"][\"J^\"]    , color=\"green\"        , linestyle=\"-\", marker=\"s\", label=\"Model (w gravity), H=0\"  )\n",
    "plt.plot(invariants[\"h=0.005\"][\"zone\"]  , invariants[\"h=0.005\"][\"J^\"]  , color=\"red\"          , linestyle=\"-\", marker=\"s\", label=\"Model (w gravity), H=+H1\")\n",
    "plt.plot(invariants[\"h=-0.005\"][\"zone\"] , invariants[\"h=-0.005\"][\"J^\"] , color=\"darkturquoise\", linestyle=\"-\", marker=\"s\", label=\"Model (w gravity), H=–H1\")\n",
    "plt.plot(invariants[\"h=0.0065\"][\"zone\"] , invariants[\"h=0.0065\"][\"J^\"] , color=\"purple\"       , linestyle=\"-\", marker=\"s\", label=\"Model (w gravity), H=+H2\")\n",
    "plt.plot(invariants[\"h=-0.0065\"][\"zone\"], invariants[\"h=-0.0065\"][\"J^\"], color=\"orange\"       , linestyle=\"-\", marker=\"s\", label=\"Model (w gravity), H=–H2\")\n",
    "plt.legend(loc=\"upper right\", fontsize=14)\n",
    "plt.show()"
   ]
  },
  {
   "cell_type": "code",
   "execution_count": null,
   "metadata": {},
   "outputs": [],
   "source": []
  }
 ],
 "metadata": {
  "kernelspec": {
   "display_name": "all",
   "language": "python",
   "name": "python3"
  },
  "language_info": {
   "codemirror_mode": {
    "name": "ipython",
    "version": 3
   },
   "file_extension": ".py",
   "mimetype": "text/x-python",
   "name": "python",
   "nbconvert_exporter": "python",
   "pygments_lexer": "ipython3",
   "version": "3.10.5"
  },
  "orig_nbformat": 4
 },
 "nbformat": 4,
 "nbformat_minor": 2
}
